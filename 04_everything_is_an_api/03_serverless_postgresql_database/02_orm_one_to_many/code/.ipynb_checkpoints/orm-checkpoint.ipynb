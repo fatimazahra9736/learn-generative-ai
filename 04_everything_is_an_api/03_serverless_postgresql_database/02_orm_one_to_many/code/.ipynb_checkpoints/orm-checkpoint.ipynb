{
 "cells": [
  {
   "cell_type": "code",
   "execution_count": null,
   "metadata": {},
   "outputs": [],
   "source": [
    "print(80808080)"
   ]
  }
 ],
 "metadata": {
  "language_info": {
   "name": "python"
  }
 },
 "nbformat": 4,
 "nbformat_minor": 2
}
