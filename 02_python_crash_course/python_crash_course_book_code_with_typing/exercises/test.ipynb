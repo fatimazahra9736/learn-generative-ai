{
 "cells": [
  {
   "cell_type": "code",
   "execution_count": 1,
   "metadata": {},
   "outputs": [
    {
     "name": "stdout",
     "output_type": "stream",
     "text": [
      "\n"
     ]
    }
   ],
   "source": [
    "\n",
    "import encodings"
   ]
  },
  {
   "cell_type": "code",
   "execution_count": 8,
   "metadata": {},
   "outputs": [
    {
     "name": "stdout",
     "output_type": "stream",
     "text": [
      "<module 'encodings' from 'c:\\\\Users\\\\a\\\\AppData\\\\Local\\\\Programs\\\\Python\\\\Python312\\\\Lib\\\\encodings\\\\__init__.py'>\n"
     ]
    }
   ],
   "source": [
    "# !conda create --name myenv3_12 python=3.12\n",
    "import encodings\n",
    "print(encodings)"
   ]
  },
  {
   "cell_type": "code",
   "execution_count": null,
   "metadata": {},
   "outputs": [],
   "source": []
  },
  {
   "cell_type": "code",
   "execution_count": 21,
   "metadata": {},
   "outputs": [
    {
     "name": "stdout",
     "output_type": "stream",
     "text": [
      "Python 3.12.1\n"
     ]
    }
   ],
   "source": [
    "!python --version\n",
    "\n"
   ]
  },
  {
   "cell_type": "code",
   "execution_count": 25,
   "metadata": {},
   "outputs": [
    {
     "name": "stderr",
     "output_type": "stream",
     "text": [
      "Could not find platform independent libraries <prefix>\n",
      "Python path configuration:\n",
      "  PYTHONHOME = (not set)\n",
      "  PYTHONPATH = (not set)\n",
      "  program name = 'C:\\Users\\a\\anaconda3\\python.exe'\n",
      "  isolated = 0\n",
      "  environment = 1\n",
      "  user site = 1\n",
      "  safe_path = 0\n",
      "  import site = 1\n",
      "  is in build tree = 0\n",
      "  stdlib dir = 'e:\\learn_genretive_ai\\02_python_crash_course\\python_crash_course_book_code_with_typing\\exercises\\Lib'\n",
      "  sys._base_executable = 'C:\\\\Users\\\\a\\\\anaconda3\\\\python.exe'\n",
      "  sys.base_prefix = 'e:\\\\learn_genretive_ai\\\\02_python_crash_course\\\\python_crash_course_book_code_with_typing\\\\exercises'\n",
      "  sys.base_exec_prefix = 'e:\\\\learn_genretive_ai\\\\02_python_crash_course\\\\python_crash_course_book_code_with_typing\\\\exercises'\n",
      "  sys.platlibdir = 'DLLs'\n",
      "  sys.executable = 'C:\\\\Users\\\\a\\\\anaconda3\\\\python.exe'\n",
      "  sys.prefix = 'e:\\\\learn_genretive_ai\\\\02_python_crash_course\\\\python_crash_course_book_code_with_typing\\\\exercises'\n",
      "  sys.exec_prefix = 'e:\\\\learn_genretive_ai\\\\02_python_crash_course\\\\python_crash_course_book_code_with_typing\\\\exercises'\n",
      "  sys.path = [\n",
      "    'C:\\\\Users\\\\a\\\\anaconda3\\\\python311.zip',\n",
      "    'e:\\\\learn_genretive_ai\\\\02_python_crash_course\\\\python_crash_course_book_code_with_typing\\\\exercises',\n",
      "    'e:\\\\learn_genretive_ai\\\\02_python_crash_course\\\\python_crash_course_book_code_with_typing\\\\exercises\\\\Lib',\n",
      "    'C:\\\\Users\\\\a\\\\anaconda3',\n",
      "  ]\n",
      "Fatal Python error: init_fs_encoding: failed to get the Python codec of the filesystem encoding\n",
      "Python runtime state: core initialized\n",
      "ModuleNotFoundError: No module named 'encodings'\n",
      "\n",
      "Current thread 0x00000a68 (most recent call first):\n",
      "  <no Python frame>\n"
     ]
    }
   ],
   "source": [
    "!pip install encodings\n",
    "\n"
   ]
  }
 ],
 "metadata": {
  "kernelspec": {
   "display_name": "Python 3",
   "language": "python",
   "name": "python3"
  },
  "language_info": {
   "codemirror_mode": {
    "name": "ipython",
    "version": 3
   },
   "file_extension": ".py",
   "mimetype": "text/x-python",
   "name": "python",
   "nbconvert_exporter": "python",
   "pygments_lexer": "ipython3",
   "version": "3.12.1"
  }
 },
 "nbformat": 4,
 "nbformat_minor": 2
}
