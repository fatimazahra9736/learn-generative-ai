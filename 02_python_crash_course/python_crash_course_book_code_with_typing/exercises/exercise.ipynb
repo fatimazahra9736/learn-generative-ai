{
 "cells": [
  {
   "cell_type": "code",
   "execution_count": 9,
   "metadata": {},
   "outputs": [
    {
     "name": "stdout",
     "output_type": "stream",
     "text": [
      "<class 'str'>\n",
      "<class 'str'>\n"
     ]
    }
   ],
   "source": [
    "# get_input = input('Enter a number: ')\n",
    "# if get_input == \"\":\n",
    "#     print(\"Please enter a number\")\n",
    "#     print(type(get_input))\n",
    "# else:\n",
    "#     get_input = int(get_input)\n",
    "#     print(type(get_input))\n",
    "# print(get_input)\n",
    "print(type(str(6)))\n",
    "print(type(\"\"))\n",
    "\n",
    "\n",
    "# get_input = input('Enter a number: ')\n",
    "# try:\n",
    "#     division = 5 / int(get_input)\n",
    "# except ValueError:\n",
    "#     print(\"please enter a number\")\n",
    "# except ZeroDivisionError:\n",
    "#     print(\"greater than 0\")\n",
    "# else:\n",
    "#     print(division)\n",
    "        "
   ]
  }
 ],
 "metadata": {
  "kernelspec": {
   "display_name": "Python 3",
   "language": "python",
   "name": "python3"
  },
  "language_info": {
   "codemirror_mode": {
    "name": "ipython",
    "version": 3
   },
   "file_extension": ".py",
   "mimetype": "text/x-python",
   "name": "python",
   "nbconvert_exporter": "python",
   "pygments_lexer": "ipython3",
   "version": "3.12.3"
  }
 },
 "nbformat": 4,
 "nbformat_minor": 2
}
