{
 "cells": [
  {
   "cell_type": "code",
   "execution_count": 1,
   "metadata": {},
   "outputs": [
    {
     "name": "stdout",
     "output_type": "stream",
     "text": [
      "sarah's favorite language is C\n"
     ]
    }
   ],
   "source": [
    "favorite_languages = {\n",
    "    \"jen\": \"python\",\n",
    "    \"sarah\" : \"c\",\n",
    "    \"edward\" : \"rust\",\n",
    "    \"phill\" : \"python\"\n",
    "}\n",
    "language = favorite_languages[\"sarah\"].title()\n",
    "print(f\"sarah's favorite language is {language}\")"
   ]
  }
 ],
 "metadata": {
  "kernelspec": {
   "display_name": "Python 3",
   "language": "python",
   "name": "python3"
  },
  "language_info": {
   "codemirror_mode": {
    "name": "ipython",
    "version": 3
   },
   "file_extension": ".py",
   "mimetype": "text/x-python",
   "name": "python",
   "nbconvert_exporter": "python",
   "pygments_lexer": "ipython3",
   "version": "3.12.1"
  }
 },
 "nbformat": 4,
 "nbformat_minor": 2
}
