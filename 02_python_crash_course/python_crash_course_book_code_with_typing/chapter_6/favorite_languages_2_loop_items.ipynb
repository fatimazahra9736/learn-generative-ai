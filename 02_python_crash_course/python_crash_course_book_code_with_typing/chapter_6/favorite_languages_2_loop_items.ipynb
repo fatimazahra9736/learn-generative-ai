{
 "cells": [
  {
   "cell_type": "code",
   "execution_count": 1,
   "metadata": {},
   "outputs": [
    {
     "name": "stdout",
     "output_type": "stream",
     "text": [
      "Jen favorite language is Python\n",
      "Sarah favorite language is C\n",
      "Edward favorite language is Rust\n",
      "Phill favorite language is Python\n"
     ]
    }
   ],
   "source": [
    "favorite_languages = {\n",
    "    \"jen\":\"python\",\n",
    "    \"sarah\":\"c\",\n",
    "    \"edward\":\"rust\",\n",
    "    \"phill\":\"python\"\n",
    "}\n",
    "for name, lang in favorite_languages.items():\n",
    "    print(f\"{name.title()} favorite language is {lang.title()}\")"
   ]
  }
 ],
 "metadata": {
  "kernelspec": {
   "display_name": "Python 3",
   "language": "python",
   "name": "python3"
  },
  "language_info": {
   "codemirror_mode": {
    "name": "ipython",
    "version": 3
   },
   "file_extension": ".py",
   "mimetype": "text/x-python",
   "name": "python",
   "nbconvert_exporter": "python",
   "pygments_lexer": "ipython3",
   "version": "3.12.1"
  }
 },
 "nbformat": 4,
 "nbformat_minor": 2
}
