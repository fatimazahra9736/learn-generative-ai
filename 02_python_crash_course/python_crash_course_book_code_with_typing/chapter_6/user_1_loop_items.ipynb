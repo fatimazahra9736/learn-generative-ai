{
 "cells": [
  {
   "cell_type": "code",
   "execution_count": 1,
   "metadata": {},
   "outputs": [
    {
     "name": "stdout",
     "output_type": "stream",
     "text": [
      "\n",
      "key: username\n",
      "value: eferim\n",
      "\n",
      "key: first\n",
      "value: enrico\n",
      "\n",
      "key: last\n",
      "value: ferim\n"
     ]
    }
   ],
   "source": [
    "user_0 = {\n",
    "    \"username\":\"eferim\",\n",
    "    \"first\":\"enrico\",\n",
    "    \"last\":\"ferim\",\n",
    "}\n",
    "for key, value in user_0.items():\n",
    "    print(f\"\\nkey: {key}\")\n",
    "    print(f\"value: {value}\")"
   ]
  }
 ],
 "metadata": {
  "kernelspec": {
   "display_name": "Python 3",
   "language": "python",
   "name": "python3"
  },
  "language_info": {
   "codemirror_mode": {
    "name": "ipython",
    "version": 3
   },
   "file_extension": ".py",
   "mimetype": "text/x-python",
   "name": "python",
   "nbconvert_exporter": "python",
   "pygments_lexer": "ipython3",
   "version": "3.12.1"
  }
 },
 "nbformat": 4,
 "nbformat_minor": 2
}
