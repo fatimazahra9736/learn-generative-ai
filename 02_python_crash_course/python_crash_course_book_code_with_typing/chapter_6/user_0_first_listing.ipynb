{
 "cells": [
  {
   "cell_type": "code",
   "execution_count": null,
   "metadata": {},
   "outputs": [],
   "source": [
    "user_0 = {\n",
    "    \"username\":\"eferim\",\n",
    "    \"first\":\"enrico\",\n",
    "    \"last\":\"ferim\",\n",
    "}"
   ]
  }
 ],
 "metadata": {
  "language_info": {
   "name": "python"
  }
 },
 "nbformat": 4,
 "nbformat_minor": 2
}
