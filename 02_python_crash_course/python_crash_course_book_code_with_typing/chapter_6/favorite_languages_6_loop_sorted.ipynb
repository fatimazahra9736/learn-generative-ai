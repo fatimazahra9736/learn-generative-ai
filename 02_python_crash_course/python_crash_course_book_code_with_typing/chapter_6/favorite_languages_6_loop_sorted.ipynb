{
 "cells": [
  {
   "cell_type": "code",
   "execution_count": 1,
   "metadata": {},
   "outputs": [
    {
     "name": "stdout",
     "output_type": "stream",
     "text": [
      "Edward thank you for taking the poll\n",
      "Jen thank you for taking the poll\n",
      "Phill thank you for taking the poll\n",
      "Sarah thank you for taking the poll\n"
     ]
    }
   ],
   "source": [
    "favorite_languages = {\n",
    "    \"jen\":\"python\",\n",
    "    \"sarah\":\"c\",\n",
    "    \"edward\":\"rusr\",\n",
    "    \"phill\":\"python\",\n",
    "}\n",
    "for name in sorted(favorite_languages.keys()):\n",
    "    print(f\"{name.title()} thank you for taking the poll\")"
   ]
  }
 ],
 "metadata": {
  "kernelspec": {
   "display_name": "Python 3",
   "language": "python",
   "name": "python3"
  },
  "language_info": {
   "codemirror_mode": {
    "name": "ipython",
    "version": 3
   },
   "file_extension": ".py",
   "mimetype": "text/x-python",
   "name": "python",
   "nbconvert_exporter": "python",
   "pygments_lexer": "ipython3",
   "version": "3.12.1"
  }
 },
 "nbformat": 4,
 "nbformat_minor": 2
}
