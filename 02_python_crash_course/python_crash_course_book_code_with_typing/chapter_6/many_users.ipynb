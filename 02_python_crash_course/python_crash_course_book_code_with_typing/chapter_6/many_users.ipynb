{
 "cells": [
  {
   "cell_type": "code",
   "execution_count": 1,
   "metadata": {},
   "outputs": [
    {
     "name": "stdout",
     "output_type": "stream",
     "text": [
      "\n",
      "username: aeinstein\n",
      "\tFull name Albort Einstein\n",
      "\tLocation Princeton\n",
      "\n",
      "username: mcurie\n",
      "\tFull name Marie Curie\n",
      "\tLocation Paris\n"
     ]
    }
   ],
   "source": [
    "users = {\n",
    "    \"aeinstein\":{\n",
    "        \"first\":\"albort\",\n",
    "        \"last\":\"einstein\",\n",
    "        \"location\":\"princeton\",\n",
    "    },\n",
    "    \"mcurie\":{\n",
    "        \"first\":\"marie\",\n",
    "        \"last\":\"curie\",\n",
    "        \"location\":\"paris\",\n",
    "    },\n",
    "}\n",
    "for username, user_info in users.items():\n",
    "    print(f\"\\nusername: {username}\")\n",
    "    full_name = f\"{user_info[\"first\"]} {user_info[\"last\"]}\"\n",
    "    location = user_info[\"location\"]\n",
    "    print(f\"\\tFull name {full_name.title()}\")\n",
    "    print(f\"\\tLocation {location.title()}\")"
   ]
  }
 ],
 "metadata": {
  "kernelspec": {
   "display_name": "Python 3",
   "language": "python",
   "name": "python3"
  },
  "language_info": {
   "codemirror_mode": {
    "name": "ipython",
    "version": 3
   },
   "file_extension": ".py",
   "mimetype": "text/x-python",
   "name": "python",
   "nbconvert_exporter": "python",
   "pygments_lexer": "ipython3",
   "version": "3.12.1"
  }
 },
 "nbformat": 4,
 "nbformat_minor": 2
}
