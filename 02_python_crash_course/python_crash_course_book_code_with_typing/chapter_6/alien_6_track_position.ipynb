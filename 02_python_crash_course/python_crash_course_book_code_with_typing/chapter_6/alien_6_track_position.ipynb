{
 "cells": [
  {
   "cell_type": "code",
   "execution_count": 1,
   "metadata": {},
   "outputs": [
    {
     "name": "stdout",
     "output_type": "stream",
     "text": [
      "Orignal position 0\n",
      "New position 2\n"
     ]
    }
   ],
   "source": [
    "alien_0 = {\"x_position\" : 0 ,\"y_position\" : 25 ,\"speed\":\"medium\"}\n",
    "print(f\"Orignal position {alien_0['x_position']}\")\n",
    "if alien_0[\"speed\"] == \"slow\":\n",
    "    x_increment = 1\n",
    "elif alien_0[\"speed\"] == \"medium\":\n",
    "    x_increment = 2\n",
    "else:\n",
    "    x_increment = 3\n",
    "alien_0[\"x_position\"] = alien_0[\"x_position\"] + x_increment\n",
    "print(f\"New position {alien_0['x_position']}\")    "
   ]
  }
 ],
 "metadata": {
  "kernelspec": {
   "display_name": "Python 3",
   "language": "python",
   "name": "python3"
  },
  "language_info": {
   "codemirror_mode": {
    "name": "ipython",
    "version": 3
   },
   "file_extension": ".py",
   "mimetype": "text/x-python",
   "name": "python",
   "nbconvert_exporter": "python",
   "pygments_lexer": "ipython3",
   "version": "3.12.1"
  }
 },
 "nbformat": 4,
 "nbformat_minor": 2
}
