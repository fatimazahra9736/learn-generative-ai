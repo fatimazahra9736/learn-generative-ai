{
 "cells": [
  {
   "cell_type": "code",
   "execution_count": 2,
   "metadata": {},
   "outputs": [
    {
     "name": "stdout",
     "output_type": "stream",
     "text": [
      "\n",
      "Jen's favorite_languages are:\n",
      "\tPython\n",
      "\tRust\n",
      "\n",
      "Sarah's favorite_languages are:\n",
      "\tC\n",
      "\n",
      "Edward's favorite_languages are:\n",
      "\tRust\n",
      "\tGo\n",
      "\n",
      "Phill's favorite_languages are:\n",
      "\tPython\n",
      "\tHaskell\n"
     ]
    }
   ],
   "source": [
    "favorite_languages = {\n",
    "    \"jen\":[\"python\",\"rust\"],\n",
    "    \"sarah\":[\"c\"],\n",
    "    \"edward\":[\"rust\",\"go\"],\n",
    "    \"phill\":[\"python\",\"haskell\"]\n",
    "}\n",
    "for name, languages in favorite_languages.items():\n",
    "    print(f\"\\n{name.title()}'s favorite_languages are:\")\n",
    "    for language in languages:\n",
    "        print(f\"\\t{language.title()}\")"
   ]
  }
 ],
 "metadata": {
  "kernelspec": {
   "display_name": "Python 3",
   "language": "python",
   "name": "python3"
  },
  "language_info": {
   "codemirror_mode": {
    "name": "ipython",
    "version": 3
   },
   "file_extension": ".py",
   "mimetype": "text/x-python",
   "name": "python",
   "nbconvert_exporter": "python",
   "pygments_lexer": "ipython3",
   "version": "3.12.1"
  }
 },
 "nbformat": 4,
 "nbformat_minor": 2
}
