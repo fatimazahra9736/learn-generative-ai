{
 "cells": [
  {
   "cell_type": "code",
   "execution_count": 4,
   "metadata": {},
   "outputs": [
    {
     "name": "stdout",
     "output_type": "stream",
     "text": [
      "\n",
      "you'll be able to ride when you're a little older.\n"
     ]
    }
   ],
   "source": [
    "hight = input(\"How tall are you, in inches?\")\n",
    "hight = int(hight)\n",
    "if hight >= 48:\n",
    "    print(\"\\nyou are tall enough to ride!\")\n",
    "else:\n",
    "    print(\"\\nyou'll be able to ride when you're a little older.\")    "
   ]
  }
 ],
 "metadata": {
  "kernelspec": {
   "display_name": "myenv",
   "language": "python",
   "name": "python3"
  },
  "language_info": {
   "codemirror_mode": {
    "name": "ipython",
    "version": 3
   },
   "file_extension": ".py",
   "mimetype": "text/x-python",
   "name": "python",
   "nbconvert_exporter": "python",
   "pygments_lexer": "ipython3",
   "version": "3.12.3"
  }
 },
 "nbformat": 4,
 "nbformat_minor": 2
}
