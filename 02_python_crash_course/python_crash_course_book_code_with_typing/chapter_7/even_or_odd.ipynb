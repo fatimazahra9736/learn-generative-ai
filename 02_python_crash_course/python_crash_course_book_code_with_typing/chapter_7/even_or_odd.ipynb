{
 "cells": [
  {
   "cell_type": "code",
   "execution_count": 1,
   "metadata": {},
   "outputs": [
    {
     "name": "stdout",
     "output_type": "stream",
     "text": [
      "\n",
      "the number is odd\n"
     ]
    }
   ],
   "source": [
    "number = input(\"enter a number and i'll tell you if it is even or odd\")\n",
    "number = int(number)\n",
    "if number % 2 == 0:\n",
    "    print(\"\\nthe number is even\")\n",
    "else:\n",
    "    print(\"\\nthe number is odd\")    "
   ]
  }
 ],
 "metadata": {
  "kernelspec": {
   "display_name": "myenv",
   "language": "python",
   "name": "python3"
  },
  "language_info": {
   "codemirror_mode": {
    "name": "ipython",
    "version": 3
   },
   "file_extension": ".py",
   "mimetype": "text/x-python",
   "name": "python",
   "nbconvert_exporter": "python",
   "pygments_lexer": "ipython3",
   "version": "3.12.3"
  }
 },
 "nbformat": 4,
 "nbformat_minor": 2
}
