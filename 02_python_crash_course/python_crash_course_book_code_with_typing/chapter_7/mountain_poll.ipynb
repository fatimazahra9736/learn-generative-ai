{
 "cells": [
  {
   "cell_type": "code",
   "execution_count": 1,
   "metadata": {},
   "outputs": [
    {
     "name": "stdout",
     "output_type": "stream",
     "text": [
      "\n",
      "--- Poll Results ---\n",
      "\n",
      "ano would you like climb k2\n"
     ]
    }
   ],
   "source": [
    "responses:dict[str, str] = {}\n",
    "polling_active:bool = True\n",
    "while polling_active:\n",
    "    name:str = input(\"what is yor name?\")\n",
    "    response:str = input(\"which mountain would you like to climb someday!\")\n",
    "    responses[name] = response\n",
    "    repeat:str = input(\"Would you like to let another person respond? (yes/ no) \")\n",
    "    if repeat == \"no\":\n",
    "        polling_active = False\n",
    "print(\"\\n--- Poll Results ---\")\n",
    "for key, value in responses.items():\n",
    "    print(f\"\\n{key} would you like climb {value}\")        "
   ]
  }
 ],
 "metadata": {
  "kernelspec": {
   "display_name": "myenv",
   "language": "python",
   "name": "python3"
  },
  "language_info": {
   "codemirror_mode": {
    "name": "ipython",
    "version": 3
   },
   "file_extension": ".py",
   "mimetype": "text/x-python",
   "name": "python",
   "nbconvert_exporter": "python",
   "pygments_lexer": "ipython3",
   "version": "3.12.3"
  }
 },
 "nbformat": 4,
 "nbformat_minor": 2
}
