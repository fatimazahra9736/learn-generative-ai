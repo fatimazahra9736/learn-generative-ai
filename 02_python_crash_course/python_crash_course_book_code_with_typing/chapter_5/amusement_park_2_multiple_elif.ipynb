{
 "cells": [
  {
   "cell_type": "code",
   "execution_count": null,
   "metadata": {},
   "outputs": [],
   "source": [
    "age:int = 12\n",
    "\n",
    "if age < 4:\n",
    "    price = 0\n",
    "\n",
    "elif age < 18:\n",
    "    price = 25\n",
    "\n",
    "elif age < 65:  \n",
    "    price = 40 \n",
    "\n",
    "else:\n",
    "    price = 20\n",
    "\n",
    "print(f\"Your admission cost is ${price}\")"
   ]
  }
 ],
 "metadata": {
  "language_info": {
   "name": "python"
  }
 },
 "nbformat": 4,
 "nbformat_minor": 2
}
