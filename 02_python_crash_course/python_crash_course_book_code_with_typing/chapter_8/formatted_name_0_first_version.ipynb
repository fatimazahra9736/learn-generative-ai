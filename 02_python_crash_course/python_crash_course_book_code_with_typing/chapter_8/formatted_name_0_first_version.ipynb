{
 "cells": [
  {
   "cell_type": "code",
   "execution_count": 1,
   "metadata": {},
   "outputs": [
    {
     "name": "stdout",
     "output_type": "stream",
     "text": [
      "Jimi Hendrix\n"
     ]
    }
   ],
   "source": [
    "def get_formatted_name(first_name:str,last_name:str)->str:\n",
    "     \"\"\"Return a full name, neatly formatted.\"\"\"\n",
    "     full_name = f\"{first_name} {last_name}\"\n",
    "     return full_name.title()\n",
    "musician = get_formatted_name(\"jimi\",\"hendrix\")\n",
    "print(musician)"
   ]
  }
 ],
 "metadata": {
  "kernelspec": {
   "display_name": "myenv",
   "language": "python",
   "name": "python3"
  },
  "language_info": {
   "codemirror_mode": {
    "name": "ipython",
    "version": 3
   },
   "file_extension": ".py",
   "mimetype": "text/x-python",
   "name": "python",
   "nbconvert_exporter": "python",
   "pygments_lexer": "ipython3",
   "version": "3.12.3"
  }
 },
 "nbformat": 4,
 "nbformat_minor": 2
}
