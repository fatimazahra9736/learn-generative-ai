{
 "cells": [
  {
   "cell_type": "code",
   "execution_count": 1,
   "metadata": {},
   "outputs": [
    {
     "name": "stdout",
     "output_type": "stream",
     "text": [
      "\n",
      "Please tellme your name\n",
      "(Enter 'q' at any time to quit)\n",
      "\n",
      "Hello Ano Mno\n",
      "\n",
      "Please tellme your name\n",
      "(Enter 'q' at any time to quit)\n"
     ]
    }
   ],
   "source": [
    "def get_formatted_name(first_name:str,last_name:str)->str:\n",
    "    \"\"\"Return a formatted name,neatly formatted\"\"\"\n",
    "    full_name:str = f\"{first_name} {last_name}\"\n",
    "    return full_name.title()\n",
    "\n",
    "while True:\n",
    "    print(\"\\nPlease tellme your name\")\n",
    "    print(\"(Enter 'q' at any time to quit)\")\n",
    "    f_name:str = input(\"First name\")\n",
    "    if f_name == 'q':\n",
    "        break\n",
    "\n",
    "    l_name:str = input(\"Last name\")\n",
    "    if l_name == 'q':\n",
    "        break\n",
    "\n",
    "    formatted_name:str = get_formatted_name(f_name,l_name)\n",
    "    print(f\"\\nHello {formatted_name}\")"
   ]
  }
 ],
 "metadata": {
  "kernelspec": {
   "display_name": "myenv",
   "language": "python",
   "name": "python3"
  },
  "language_info": {
   "codemirror_mode": {
    "name": "ipython",
    "version": 3
   },
   "file_extension": ".py",
   "mimetype": "text/x-python",
   "name": "python",
   "nbconvert_exporter": "python",
   "pygments_lexer": "ipython3",
   "version": "3.12.3"
  }
 },
 "nbformat": 4,
 "nbformat_minor": 2
}
