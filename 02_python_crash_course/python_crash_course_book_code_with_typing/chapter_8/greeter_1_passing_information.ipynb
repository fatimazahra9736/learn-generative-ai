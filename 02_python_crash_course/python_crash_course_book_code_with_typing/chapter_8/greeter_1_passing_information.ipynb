{
 "cells": [
  {
   "cell_type": "code",
   "execution_count": 1,
   "metadata": {},
   "outputs": [
    {
     "name": "stdout",
     "output_type": "stream",
     "text": [
      "Hello Jesse\n"
     ]
    }
   ],
   "source": [
    "def greet_user(username:str)->None:\n",
    "    \"\"\"display a simple greeting\"\"\"\n",
    "    print(f\"Hello {username.title()}\")\n",
    "greet_user('jesse')"
   ]
  }
 ],
 "metadata": {
  "kernelspec": {
   "display_name": "myenv",
   "language": "python",
   "name": "python3"
  },
  "language_info": {
   "codemirror_mode": {
    "name": "ipython",
    "version": 3
   },
   "file_extension": ".py",
   "mimetype": "text/x-python",
   "name": "python",
   "nbconvert_exporter": "python",
   "pygments_lexer": "ipython3",
   "version": "3.12.3"
  }
 },
 "nbformat": 4,
 "nbformat_minor": 2
}
