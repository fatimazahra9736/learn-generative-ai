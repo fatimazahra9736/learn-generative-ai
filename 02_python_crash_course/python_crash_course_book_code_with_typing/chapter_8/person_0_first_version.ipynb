{
 "cells": [
  {
   "cell_type": "code",
   "execution_count": 1,
   "metadata": {},
   "outputs": [
    {
     "name": "stdout",
     "output_type": "stream",
     "text": [
      "{'first': 'jimmi', 'last': 'handrix'}\n"
     ]
    }
   ],
   "source": [
    "def build_person(first_name:str,last_name:str)->dict:\n",
    "    \"\"\"Return a dictionary of information about a person\"\"\"\n",
    "    person:dict[str,str] = {'first':first_name,'last':last_name}\n",
    "    return person\n",
    "musician:dict[str,str] = build_person('jimmi','handrix')\n",
    "print(musician)\n"
   ]
  }
 ],
 "metadata": {
  "kernelspec": {
   "display_name": "myenv",
   "language": "python",
   "name": "python3"
  },
  "language_info": {
   "codemirror_mode": {
    "name": "ipython",
    "version": 3
   },
   "file_extension": ".py",
   "mimetype": "text/x-python",
   "name": "python",
   "nbconvert_exporter": "python",
   "pygments_lexer": "ipython3",
   "version": "3.12.3"
  }
 },
 "nbformat": 4,
 "nbformat_minor": 2
}
