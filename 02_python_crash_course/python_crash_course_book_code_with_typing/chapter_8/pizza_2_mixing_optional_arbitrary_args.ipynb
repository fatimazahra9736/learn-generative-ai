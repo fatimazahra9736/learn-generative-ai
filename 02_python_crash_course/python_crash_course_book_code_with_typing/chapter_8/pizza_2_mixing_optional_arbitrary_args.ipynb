{
 "cells": [
  {
   "cell_type": "code",
   "execution_count": 3,
   "metadata": {},
   "outputs": [
    {
     "name": "stdout",
     "output_type": "stream",
     "text": [
      "\n",
      "making a 16-inch pizza with the following toppings:\n",
      "- pepperoni\n",
      "\n",
      "making a 12-inch pizza with the following toppings:\n",
      "- mushrooms\n",
      "- green pepper\n",
      "- extra chees\n"
     ]
    }
   ],
   "source": [
    "def make_pizza(size:int,*toppings:str)->None:\n",
    "    \"\"\"Summarize the pizza we are about to make\"\"\"\n",
    "    print(f\"\\nmaking a {size}-inch pizza with the following toppings:\")\n",
    "    for topping in toppings:\n",
    "        print(f\"- {topping}\")\n",
    "make_pizza(16, 'pepperoni')\n",
    "make_pizza(12, 'mushrooms','green pepper','extra chees')"
   ]
  }
 ],
 "metadata": {
  "kernelspec": {
   "display_name": "myenv",
   "language": "python",
   "name": "python3"
  },
  "language_info": {
   "codemirror_mode": {
    "name": "ipython",
    "version": 3
   },
   "file_extension": ".py",
   "mimetype": "text/x-python",
   "name": "python",
   "nbconvert_exporter": "python",
   "pygments_lexer": "ipython3",
   "version": "3.12.3"
  }
 },
 "nbformat": 4,
 "nbformat_minor": 2
}
