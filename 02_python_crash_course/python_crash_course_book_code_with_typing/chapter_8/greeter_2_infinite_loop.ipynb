{
 "cells": [
  {
   "cell_type": "code",
   "execution_count": 1,
   "metadata": {},
   "outputs": [
    {
     "name": "stdout",
     "output_type": "stream",
     "text": [
      "\n",
      "Please tell me your name\n",
      "Hello Ano Mno\n",
      "\n",
      "Please tell me your name\n"
     ]
    }
   ],
   "source": [
    "def get_formatted_name(first_name:str,last_name:str)->str:\n",
    "    \"\"\"return a full name neatly formatted\"\"\"\n",
    "    full_name:str = f\"{first_name} {last_name}\"\n",
    "    return full_name.title()\n",
    "\n",
    "while True:\n",
    "    print(\"\\nPlease tell me your name\")\n",
    "    f_name:str = input(\"First name\")\n",
    "    l_name:str = input(\"Last name\")\n",
    "    formatted_name:str = get_formatted_name(f_name,l_name)\n",
    "    print(f\"Hello {formatted_name}\")"
   ]
  }
 ],
 "metadata": {
  "kernelspec": {
   "display_name": "myenv",
   "language": "python",
   "name": "python3"
  },
  "language_info": {
   "codemirror_mode": {
    "name": "ipython",
    "version": 3
   },
   "file_extension": ".py",
   "mimetype": "text/x-python",
   "name": "python",
   "nbconvert_exporter": "python",
   "pygments_lexer": "ipython3",
   "version": "3.12.3"
  }
 },
 "nbformat": 4,
 "nbformat_minor": 2
}
