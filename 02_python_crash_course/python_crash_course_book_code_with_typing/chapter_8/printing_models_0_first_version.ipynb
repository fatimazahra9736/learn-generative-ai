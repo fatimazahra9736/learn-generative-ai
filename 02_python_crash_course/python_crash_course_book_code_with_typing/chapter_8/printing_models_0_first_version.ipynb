{
 "cells": [
  {
   "cell_type": "code",
   "execution_count": 1,
   "metadata": {},
   "outputs": [
    {
     "name": "stdout",
     "output_type": "stream",
     "text": [
      "printing model dodecahedron\n",
      "printing model robot pendant\n",
      "printing model phone case\n",
      "\n",
      "the following models have been printed:\n",
      "dodecahedron\n",
      "robot pendant\n",
      "phone case\n"
     ]
    }
   ],
   "source": [
    "unprinted_designs:list[str] = ['phone case','robot pendant','dodecahedron']\n",
    "completed_models:list[str] = []\n",
    "\n",
    "while unprinted_designs:\n",
    "    current_design:str = unprinted_designs.pop()\n",
    "    print(f\"printing model {current_design}\")\n",
    "    completed_models.append(current_design)\n",
    "\n",
    "print(\"\\nthe following models have been printed:\")\n",
    "\n",
    "for completed_model in completed_models:\n",
    "    print(completed_model)"
   ]
  }
 ],
 "metadata": {
  "kernelspec": {
   "display_name": "myenv",
   "language": "python",
   "name": "python3"
  },
  "language_info": {
   "codemirror_mode": {
    "name": "ipython",
    "version": 3
   },
   "file_extension": ".py",
   "mimetype": "text/x-python",
   "name": "python",
   "nbconvert_exporter": "python",
   "pygments_lexer": "ipython3",
   "version": "3.12.3"
  }
 },
 "nbformat": 4,
 "nbformat_minor": 2
}
