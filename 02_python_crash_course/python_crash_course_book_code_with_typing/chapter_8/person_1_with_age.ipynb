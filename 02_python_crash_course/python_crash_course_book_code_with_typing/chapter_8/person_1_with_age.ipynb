{
 "cells": [
  {
   "cell_type": "code",
   "execution_count": 1,
   "metadata": {},
   "outputs": [
    {
     "name": "stdout",
     "output_type": "stream",
     "text": [
      "{'first': 'jimmi', 'last': 'handrix', 'age': 17}\n"
     ]
    }
   ],
   "source": [
    "from typing import Optional,Union\n",
    "\n",
    "def build_person(first_name:str,last_name:str,age:Union[int,None]=None)->dict[str,Union[str,int]]:\n",
    "    \"\"\"Return a dictionary of information about a person.\"\"\"\n",
    "    person:dict[str,Union[str,int]] = {'first':first_name,'last':last_name}\n",
    "    if age is not None:\n",
    "        person['age'] = age\n",
    "    return person\n",
    "musician:dict[str,Union[str,int]] = build_person('jimmi','handrix',age=17)\n",
    "print(musician)    "
   ]
  }
 ],
 "metadata": {
  "kernelspec": {
   "display_name": "myenv",
   "language": "python",
   "name": "python3"
  },
  "language_info": {
   "codemirror_mode": {
    "name": "ipython",
    "version": 3
   },
   "file_extension": ".py",
   "mimetype": "text/x-python",
   "name": "python",
   "nbconvert_exporter": "python",
   "pygments_lexer": "ipython3",
   "version": "3.12.3"
  }
 },
 "nbformat": 4,
 "nbformat_minor": 2
}
